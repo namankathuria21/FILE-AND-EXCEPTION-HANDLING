{
  "nbformat": 4,
  "nbformat_minor": 0,
  "metadata": {
    "colab": {
      "provenance": [],
      "authorship_tag": "ABX9TyNK+Ie89stogHsEGFAUNLPe",
      "include_colab_link": true
    },
    "kernelspec": {
      "name": "python3",
      "display_name": "Python 3"
    },
    "language_info": {
      "name": "python"
    }
  },
  "cells": [
    {
      "cell_type": "markdown",
      "metadata": {
        "id": "view-in-github",
        "colab_type": "text"
      },
      "source": [
        "<a href=\"https://colab.research.google.com/github/namankathuria21/FILE-AND-EXCEPTION-HANDLING/blob/main/FILE_AND_EXCEPTION_HANDLING.ipynb\" target=\"_parent\"><img src=\"https://colab.research.google.com/assets/colab-badge.svg\" alt=\"Open In Colab\"/></a>"
      ]
    },
    {
      "cell_type": "markdown",
      "source": [
        "Q1. What is the difference between interpreted and compiled languages?\n",
        "\n",
        "Compiled languages: Source code is converted into machine code before execution (e.g., C, C++). Faster execution.\n",
        "\n",
        "Interpreted languages: Code is executed line by line by an interpreter (e.g., Python, JavaScript). Easier debugging but slower.\n",
        "\n",
        "Q2. What is exception handling in Python?\n",
        "\n",
        "Exception handling is a mechanism to handle runtime errors gracefully using try, except, else, and finally blocks.\n",
        "\n",
        "Q3. What is the purpose of the finally block in exception handling?\n",
        "\n",
        "The finally block runs regardless of whether an exception occurs. It is often used for cleanup operations (closing files, releasing resources).\n",
        "\n",
        "Q4. What is logging in Python?\n",
        "\n",
        "Logging records messages (errors, warnings, information) during program execution for debugging and monitoring.\n",
        "\n",
        "Q5. What is the significance of the del method in Python?\n",
        "\n",
        "__del__ is a destructor method automatically called when an object is destroyed. It is useful for resource cleanup.\n",
        "\n",
        "Q6. What is the difference between import and from ... import in Python?\n",
        "\n",
        "import module: Imports the whole module (access with module.function()).\n",
        "\n",
        "from module import function: Imports specific items (access directly as function()).\n",
        "\n",
        "Q7. How can you handle multiple exceptions in Python?\n",
        "\n",
        "Use multiple except blocks or a tuple of exceptions:\n",
        "\n",
        "try:\n",
        "    x = int(\"abc\")\n",
        "except (ValueError, TypeError) as e:\n",
        "    print(\"Error:\", e)\n",
        "\n",
        "Q8. What is the purpose of the with statement when handling files in Python?\n",
        "\n",
        "It automatically closes the file after execution, even if an error occurs. Example:\n",
        "\n",
        "with open(\"data.txt\", \"r\") as f:\n",
        "    print(f.read())\n",
        "\n",
        "Q9. What is the difference between multithreading and multiprocessing?\n",
        "\n",
        "Multithreading: Runs multiple threads in one process (shares memory). Best for I/O-bound tasks.\n",
        "\n",
        "Multiprocessing: Runs separate processes (independent memory). Best for CPU-bound tasks.\n",
        "\n",
        "Q10. What are the advantages of using logging in a program?\n",
        "\n",
        "Debugging\n",
        "\n",
        "Tracking errors\n",
        "\n",
        "Saving execution history\n",
        "\n",
        "Configurable output levels\n",
        "\n",
        "Q11. What is memory management in Python?\n",
        "\n",
        "It is the process of allocating and releasing memory automatically using reference counting and garbage collection.\n",
        "\n",
        "Q12. What are the basic steps involved in exception handling in Python?\n",
        "\n",
        "Write code inside a try block.\n",
        "\n",
        "Catch errors using except.\n",
        "\n",
        "Use else for code that runs if no error occurs.\n",
        "\n",
        "Use finally for cleanup.\n",
        "\n",
        "Q13. Why is memory management important in Python?\n",
        "\n",
        "It ensures efficient memory use, prevents memory leaks, and allows handling of large data without crashing.\n",
        "\n",
        "Q14. What is the role of try and except in exception handling?\n",
        "\n",
        "try: Contains risky code.\n",
        "\n",
        "except: Catches and handles exceptions.\n",
        "\n",
        "Q15. How does Python's garbage collection system work?\n",
        "\n",
        "Python uses reference counting and a cyclic garbage collector to free unused memory.\n",
        "\n",
        "Q16. What is the purpose of the else block in exception handling?\n",
        "\n",
        "The else block runs only if no exceptions occur.\n",
        "\n",
        "Q17. What are the common logging levels in Python?\n",
        "\n",
        "DEBUG\n",
        "\n",
        "INFO\n",
        "\n",
        "WARNING\n",
        "\n",
        "ERROR\n",
        "\n",
        "CRITICAL\n",
        "\n",
        "Q18. What is the difference between os.fork() and multiprocessing in Python?\n",
        "\n",
        "os.fork(): Unix-only, creates a child process.\n",
        "\n",
        "multiprocessing: Cross-platform, provides higher-level process management.\n",
        "\n",
        "Q19. What is the importance of closing a file in Python?\n",
        "\n",
        "It ensures data is saved, resources are released, and file corruption is prevented.\n",
        "\n",
        "Q20. What is the difference between file.read() and file.readline() in Python?\n",
        "\n",
        "file.read(): Reads the entire file.\n",
        "\n",
        "file.readline(): Reads one line at a time.\n",
        "\n",
        "Q21. What is the logging module in Python used for?\n",
        "\n",
        "It is used to configure, record, and manage log messages in applications.\n",
        "\n",
        "Q22. What is the os module in Python used for in file handling?\n",
        "\n",
        "It provides functions for interacting with the operating system (file paths, directories, environment variables).\n",
        "\n",
        "Q23. What are the challenges associated with memory management in Python?\n",
        "\n",
        "Cyclic references.\n",
        "\n",
        "Memory fragmentation.\n",
        "\n",
        "Performance overhead of garbage collection.\n",
        "\n",
        "Q24. How do you raise an exception manually in Python?\n",
        "raise ValueError(\"This is a manually raised exception\")\n",
        "\n",
        "Q25. Why is it important to use multithreading in certain applications?\n",
        "\n",
        "It improves performance in I/O-bound tasks (web scraping, file operations) by allowing concurrent execution."
      ],
      "metadata": {
        "id": "TsZwb9TW3Q_9"
      }
    },
    {
      "cell_type": "code",
      "execution_count": 1,
      "metadata": {
        "id": "2Vh7jSYI3MGd"
      },
      "outputs": [],
      "source": [
        "#Q1. How can you open a file for writing in Python and write a string to it?\n",
        "with open(\"example.txt\", \"w\") as f:\n",
        "    f.write(\"Hello, world!\")"
      ]
    },
    {
      "cell_type": "code",
      "source": [
        "#Q2. Write a Python program to read the contents of a file and print each line.\n",
        "with open(\"example.txt\", \"r\") as f:\n",
        "    for line in f:\n",
        "        print(line.strip())"
      ],
      "metadata": {
        "id": "3pHohsEa3gJ5"
      },
      "execution_count": null,
      "outputs": []
    },
    {
      "cell_type": "code",
      "source": [
        "#Q3. How would you handle a case where the file doesn't exist while trying to open it for reading?\n",
        "try:\n",
        "    with open(\"nofile.txt\", \"r\") as f:\n",
        "        print(f.read())\n",
        "except FileNotFoundError:\n",
        "    print(\"File does not exist.\")"
      ],
      "metadata": {
        "colab": {
          "base_uri": "https://localhost:8080/"
        },
        "id": "-QRAxkZJ3jKY",
        "outputId": "b3de924b-174f-4590-bf94-00b88b6184c6"
      },
      "execution_count": 2,
      "outputs": [
        {
          "output_type": "stream",
          "name": "stdout",
          "text": [
            "File does not exist.\n"
          ]
        }
      ]
    },
    {
      "cell_type": "code",
      "source": [
        "#Q4. Write a Python script that reads from one file and writes its content to another file.\n",
        "with open(\"source.txt\", \"r\") as src, open(\"dest.txt\", \"w\") as dest:\n",
        "    dest.write(src.read())"
      ],
      "metadata": {
        "id": "1IUlrLQE3wZe"
      },
      "execution_count": null,
      "outputs": []
    },
    {
      "cell_type": "code",
      "source": [
        "#Q5. How would you catch and handle division by zero error in Python?\n",
        "try:\n",
        "    result = 10 / 0\n",
        "except ZeroDivisionError:\n",
        "    print(\"Cannot divide by zero!\")"
      ],
      "metadata": {
        "id": "YEur0ZnA3zJZ"
      },
      "execution_count": null,
      "outputs": []
    },
    {
      "cell_type": "code",
      "source": [
        "#Q6. Write a Python program that logs an error message to a log file when a division by zero exception occurs.\n",
        "import logging\n",
        "logging.basicConfig(filename=\"error.log\", level=logging.ERROR)\n",
        "\n",
        "try:\n",
        "    result = 10 / 0\n",
        "except ZeroDivisionError as e:\n",
        "    logging.error(\"Division by zero error: %s\", e)\n"
      ],
      "metadata": {
        "id": "Ick89Q6v4A50"
      },
      "execution_count": null,
      "outputs": []
    },
    {
      "cell_type": "code",
      "source": [
        "#Q7. How do you log information at different levels (INFO, ERROR, WARNING) in Python using the logging module?\n",
        "import logging\n",
        "logging.basicConfig(level=logging.DEBUG)\n",
        "\n",
        "logging.info(\"This is an info message\")\n",
        "logging.warning(\"This is a warning message\")\n",
        "logging.error(\"This is an error message\")"
      ],
      "metadata": {
        "colab": {
          "base_uri": "https://localhost:8080/"
        },
        "id": "clRpLPI73777",
        "outputId": "9b18be6b-4512-4545-9eeb-13fa647b9579"
      },
      "execution_count": 4,
      "outputs": [
        {
          "output_type": "stream",
          "name": "stderr",
          "text": [
            "WARNING:root:This is a warning message\n",
            "ERROR:root:This is an error message\n"
          ]
        }
      ]
    },
    {
      "cell_type": "code",
      "source": [
        "#Q8. Write a program to handle a file opening error using exception handling.\n",
        "try:\n",
        "    f = open(\"nofile.txt\", \"r\")\n",
        "except FileNotFoundError:\n",
        "    print(\"File not found.\")"
      ],
      "metadata": {
        "id": "jDRGulgf4GS9"
      },
      "execution_count": null,
      "outputs": []
    },
    {
      "cell_type": "code",
      "source": [
        "#Q9. How can you read a file line by line and store its content in a list in Python?\n",
        "with open(\"example.txt\", \"r\") as f:\n",
        "    lines = f.readlines()\n",
        "print(lines)"
      ],
      "metadata": {
        "id": "eywQkLep4JvV"
      },
      "execution_count": null,
      "outputs": []
    },
    {
      "cell_type": "code",
      "source": [
        "#Q10. How can you append data to an existing file in Python?\n",
        "with open(\"example.txt\", \"a\") as f:\n",
        "    f.write(\"\\nNew line appended\")"
      ],
      "metadata": {
        "id": "pi9p0J8S4MEA"
      },
      "execution_count": null,
      "outputs": []
    },
    {
      "cell_type": "code",
      "source": [
        "#Q11. Write a Python program that uses a try-except block to handle an error when attempting to access a dictionary key that doesn't exist.\n",
        "my_dict = {\"a\": 1}\n",
        "try:\n",
        "    print(my_dict[\"b\"])\n",
        "except KeyError:\n",
        "    print(\"Key not found.\")"
      ],
      "metadata": {
        "id": "PEkQhZux4OqL"
      },
      "execution_count": null,
      "outputs": []
    },
    {
      "cell_type": "code",
      "source": [
        "#Q12. Write a Python program that uses a try-except block to handle an error when attempting to access a dictionary key that doesn't exist.\n",
        "my_dict = {\"a\": 1}\n",
        "try:\n",
        "    print(my_dict[\"b\"])\n",
        "except KeyError:\n",
        "    print(\"Key not found.\")"
      ],
      "metadata": {
        "id": "JEhaLtVa4RN8"
      },
      "execution_count": null,
      "outputs": []
    },
    {
      "cell_type": "code",
      "source": [
        "#Q13. How would you check if a file exists before attempting to read it in Python?\n",
        "import os\n",
        "if os.path.exists(\"example.txt\"):\n",
        "    with open(\"example.txt\", \"r\") as f:\n",
        "        print(f.read())\n",
        "else:\n",
        "    print(\"File does not exist\")"
      ],
      "metadata": {
        "id": "XeC0qGjk4U70"
      },
      "execution_count": null,
      "outputs": []
    },
    {
      "cell_type": "code",
      "source": [
        "#Q14. Write a program that uses the logging module to log both informational and error messages.\n",
        "import logging\n",
        "logging.basicConfig(filename=\"app.log\", level=logging.DEBUG)\n",
        "\n",
        "logging.info(\"This is an informational message\")\n",
        "logging.error(\"This is an error message\")"
      ],
      "metadata": {
        "id": "MJeXMR3N4Xe5"
      },
      "execution_count": null,
      "outputs": []
    },
    {
      "cell_type": "code",
      "source": [
        "#Q15. Write a Python program that prints the content of a file and handles the case when the file is empty.\n",
        "with open(\"example.txt\", \"r\") as f:\n",
        "    content = f.read()\n",
        "    if content:\n",
        "        print(content)\n",
        "    else:\n",
        "        print(\"File is empty\")"
      ],
      "metadata": {
        "id": "-T0VJ7P_4aKm"
      },
      "execution_count": null,
      "outputs": []
    },
    {
      "cell_type": "code",
      "source": [
        "#Q16. Demonstrate how to use memory profiling to check the memory usage of a small program.\n",
        "from memory_profiler import profile\n",
        "\n",
        "@profile\n",
        "def my_func():\n",
        "    a = [i for i in range(10000)]\n",
        "    return sum(a)\n",
        "\n",
        "my_func()"
      ],
      "metadata": {
        "id": "SPTQPYG-4azx"
      },
      "execution_count": null,
      "outputs": []
    },
    {
      "cell_type": "code",
      "source": [
        "#Q17. Write a Python program to create and write a list of numbers to a file, one number per line.\n",
        "numbers = [1, 2, 3, 4, 5]\n",
        "with open(\"numbers.txt\", \"w\") as f:\n",
        "    for num in numbers:\n",
        "        f.write(str(num) + \"\\n\")"
      ],
      "metadata": {
        "id": "yPDZDRG04gNx"
      },
      "execution_count": null,
      "outputs": []
    },
    {
      "cell_type": "code",
      "source": [
        "#Q18. How would you implement a basic logging setup that logs to a file with rotation after 1MB?\n",
        "import logging\n",
        "from logging.handlers import RotatingFileHandler\n",
        "\n",
        "handler = RotatingFileHandler(\"app.log\", maxBytes=1_000_000, backupCount=3)\n",
        "logging.basicConfig(handlers=[handler], level=logging.INFO)\n",
        "\n",
        "logging.info(\"Logging with rotation setup\")\n"
      ],
      "metadata": {
        "id": "k_FFjETl4izy"
      },
      "execution_count": null,
      "outputs": []
    },
    {
      "cell_type": "code",
      "source": [
        "#Q19. Write a program that handles both IndexError and KeyError using a try-except block.\n",
        "try:\n",
        "    my_list = [1, 2]\n",
        "    print(my_list[5])  # IndexError\n",
        "    my_dict = {\"a\": 1}\n",
        "    print(my_dict[\"b\"])  # KeyError\n",
        "except IndexError:\n",
        "    print(\"Index out of range\")\n",
        "except KeyError:\n",
        "    print(\"Key not found\")"
      ],
      "metadata": {
        "id": "6zijkrOx4la4"
      },
      "execution_count": null,
      "outputs": []
    },
    {
      "cell_type": "code",
      "source": [
        "#Q20. How would you open a file and read its contents using a context manager in Python?\n",
        "with open(\"example.txt\", \"r\") as f:\n",
        "    print(f.read())"
      ],
      "metadata": {
        "id": "vm-s8UiB4nzy"
      },
      "execution_count": null,
      "outputs": []
    },
    {
      "cell_type": "code",
      "source": [
        "#Q21. Write a Python program that reads a file and prints the number of occurrences of a specific word.\n",
        "word = \"Python\"\n",
        "count = 0\n",
        "with open(\"example.txt\", \"r\") as f:\n",
        "    for line in f:\n",
        "        count += line.split().count(word)\n",
        "print(f\"Occurrences of '{word}':\", count)"
      ],
      "metadata": {
        "id": "YM3nIh3B4rXG"
      },
      "execution_count": null,
      "outputs": []
    },
    {
      "cell_type": "code",
      "source": [
        "#Q22. How can you check if a file is empty before attempting to read its contents?\n",
        "import os\n",
        "if os.stat(\"example.txt\").st_size == 0:\n",
        "    print(\"File is empty\")\n",
        "else:\n",
        "    with open(\"example.txt\", \"r\") as f:\n",
        "        print(f.read())"
      ],
      "metadata": {
        "id": "EX5N0SG_4uIf"
      },
      "execution_count": null,
      "outputs": []
    },
    {
      "cell_type": "code",
      "source": [
        "#Q23. Write a Python program that writes to a log file when an error occurs during file handling.\n",
        "import logging\n",
        "\n",
        "logging.basicConfig(filename=\"file_errors.log\", level=logging.ERROR)\n",
        "\n",
        "try:\n",
        "    with open(\"nofile.txt\", \"r\") as f:\n",
        "        print(f.read())\n",
        "except Exception as e:\n",
        "    logging.error(\"Error while handling file: %s\", e)"
      ],
      "metadata": {
        "id": "Q9dRgXtc4wr4"
      },
      "execution_count": null,
      "outputs": []
    }
  ]
}